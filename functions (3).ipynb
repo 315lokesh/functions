{
  "nbformat": 4,
  "nbformat_minor": 0,
  "metadata": {
    "colab": {
      "provenance": []
    },
    "kernelspec": {
      "name": "python3",
      "display_name": "Python 3"
    },
    "language_info": {
      "name": "python"
    }
  },
  "cells": [
    {
      "cell_type": "markdown",
      "source": [
        "**Functions** **assignment**:-"
      ],
      "metadata": {
        "id": "3xZirk3jKdJf"
      }
    },
    {
      "cell_type": "markdown",
      "source": [
        "\n",
        "*Que1.**  What is the difference between a function and a method in Python?\n",
        "\n",
        "**Ans:-** **Function**:\n",
        "A function is a block of code that performs a specific task and is defined independently. It is called directly by its name and can accept arguments and return values.\n",
        "\n",
        "**Method**:\n",
        "A method is a function associated with an object (an instance of a class). It is called on an object using dot notation and can access and modify the object's data. The first parameter of a method is conventionally named self, which refers to the instance the method is called on.\n",
        "\n",
        "  **Difference b/w function and method.**\n",
        "\n",
        "**function:-**\n",
        "\n",
        "  - Function do not have any reference variable.\n",
        "  - All data is passed to a function is explicitly passed.\n",
        "  -  It does not have access controlling i.e function (other static functions)\n",
        "  - function applies to both object oriented and non - object oriented language\n",
        "    (procedual, language. C, scripting language e.g java script etc..)\n",
        "\n",
        "**Method**  \n",
        "- method are called by reference variables\n",
        "- It is implicity passed the object for which it was called\n",
        "- It has access controlling method shuld be define and declear in the class.\n",
        "- method is only applocable to object oriented programming language like c++, java, etc.  \n",
        "\n",
        "**For example:-**\n",
        "\n",
        "        # Function\n",
        "        def add(a, b):\n",
        "          return a + b\n",
        "\n",
        "        result = add(5, 3) # Calling the function directly\n",
        "        print(result)\n",
        "        \n",
        "           8\n",
        "\n",
        "      # Method\n",
        "      class Dog:\n",
        "      def __init__(self, name):\n",
        "        self.name = name\n",
        "    \n",
        "      def bark(self):\n",
        "        print(\"Woof! My name is\", self.name)\n",
        "\n",
        "    my_dog = Dog(\"Buddy\")\n",
        "    my_dog.bark() # Calling the method on the object\n",
        "    \n",
        "     Woof! My name is Buddy\n"
      ],
      "metadata": {
        "id": "M7dNLHhaKnth"
      }
    },
    {
      "cell_type": "markdown",
      "source": [
        "**Que 2.** Explain the concept of function arguments and parameters in Python.\n",
        "\n",
        "**Ans:- ** In Python, functions can accept inputs, which are specified using    \n",
        "          parameters and provided as arguments when the function is called.\n",
        "\n",
        "  - Parameters are variables defined in a function declaration. This act as placeholders for the values (arguments) that will be passed to the function.\n",
        "\n",
        "  Parameters\n",
        "- A parameter is the variable defined within the parentheses when we declare a function.\n",
        "\n",
        "Example:     \n",
        "               # Here a,b are the parameters\n",
        "                    \n",
        "                    def sum(a,b):\n",
        "                      print(a+b)\n",
        "  \n",
        "                        sum(1,2)\n",
        "\n",
        "Arguments are the actual values that you pass to the function when you call it. These values replace the parameters defined in the function.\n",
        "\n",
        "Although these terms are often used interchangeably, they have distinct roles within a function. This article focuses to clarify them and help us to use Parameters and Arguments effectively.\n",
        "\n",
        "Example:-\n",
        "\n",
        "          def sum(a,b):\n",
        "            print(a+b)\n",
        "  \n",
        "      # Here the values 1,2 are arguments\n",
        "            sum(1,2)\n",
        "\n",
        "            3\n",
        "\n",
        "\n",
        "\n",
        "**Que3**. What are the different ways to define and call a function in Python?                       \n",
        "\n",
        "Ans:- Defining a Function\n",
        "Using the def keyword: This is the standard way to define a function in Python.\n",
        "\n",
        "                def function_name(parameters):\n",
        "              # function body\n",
        "                  return value\n",
        "\n",
        "Using lambda expressions: This is used to define anonymous functions, which are functions without a name.\n",
        "\n",
        "                    function_name = lambda parameters: expression\n",
        "\n",
        "**Calling a Function**\n",
        "Directly: Call the function by its name followed by parentheses, passing any required arguments.\n",
        "\n",
        "                        result = function_name(arguments)\n",
        "\n",
        "**Using dict():** If functions are stored in a dictionary, they can be called using their keys.\n",
        "\n",
        "                        functions = {'add': lambda x, y: x + y}\n",
        "                          result = functions['add'](2, 3)\n",
        "\n",
        "\n",
        "\n",
        "\n"
      ],
      "metadata": {
        "id": "g8-s1sESHJGU"
      }
    },
    {
      "cell_type": "markdown",
      "source": [
        "**Que 4.** What is the purpose of the `return` statement in a Python function?\n",
        "\n",
        "**Ans:-** The Python return Statement: Usage and Best Practices – Real ...The purpose of the return statement in a Python function is to terminate the function's execution and send a value back to the caller.\n",
        "\n",
        "return Statement:-\n",
        "\n",
        "A return statement is used to end the execution of the function call and it \"returns\" the value of the expression following the return keyword to the caller. The statements after the return statements are not executed.\n",
        "                      def add(a, b):\n",
        "\n",
        "              # returning sum of a and b\n",
        "              return a + b\n",
        "\n",
        "              def is_true(a):\n",
        "\n",
        "            # returning boolean of a\n",
        "              return bool(a)\n",
        "\n",
        "          # calling function\n",
        "                res = add(2, 3)\n",
        "                  print(res)\n",
        "\n",
        "              res = is_true(2<5)\n",
        "                print(res)\n",
        "\n"
      ],
      "metadata": {
        "id": "7vx_o1-RNP_n"
      }
    },
    {
      "cell_type": "markdown",
      "source": [
        "**Que 5.** What are iterators in Python and how do they differ from iterables?\n",
        "\n",
        "**Ans:-** Iterable is an object, that one can iterate over. It generates an Iterator when passed to iter() method.\n",
        "\n",
        "An iterator is an object, which is used to iterate over an iterable object using the __next__() method. Iterators have the __next__() method, which returns the next item of the object.\n",
        "\n",
        "Note: Every iterator is also an iterable, but not every iterable is an iterator in Python.\n",
        "\n",
        "\n",
        "\n",
        "\n",
        "\n"
      ],
      "metadata": {
        "id": "7LWBZVYhOwws"
      }
    },
    {
      "cell_type": "markdown",
      "source": [
        "**Que 6**.Explain the concept of generators in Python and how they are defined.\n",
        "\n",
        "**Ans:-**Python generator functions are a powerful tool for creating iterators. we will discuss how the generator function works in Python.\n",
        "\n",
        "**Generator Function in Python**\n",
        "\n",
        "A generator function is a special type of function that returns an iterator object. Instead of using return to send back a single value, generator functions use yield to produce a series of results over time.\n",
        "\n",
        "- This allows the function to generate values and pause its execution after each yield, maintaining its state between iterations.\n",
        "\n",
        "                    def fun(max):\n",
        "                  cnt = 1\n",
        "                while cnt <= max:\n",
        "                  yield cnt\n",
        "                  cnt += 1\n",
        "\n",
        "                ctr = fun(5)\n",
        "              for n in ctr:\n",
        "                print(n)\n",
        "          1\n",
        "          2\n",
        "          3\n",
        "          4\n",
        "          5"
      ],
      "metadata": {
        "id": "6Pu3DGyhZgr1"
      }
    },
    {
      "cell_type": "markdown",
      "source": [
        "**Que 7**. What are the advantages of using generators over regular functions?\n",
        "\n",
        "**Ans:-** Generators offer several advantages over regular functions, primarily related to memory efficiency and lazy evaluation. They generate values on demand, consuming less memory compared to functions that return a complete list, especially when dealing with large or infinite sequences. This memory efficiency also translates to faster performance as only the necessary data is processed at a time.\n",
        "\n",
        "  Advantages:-\n",
        "\n",
        "1. Memory Efficiency:\n",
        "\n",
        "Generators produce values one at a time, rather than storing the entire sequence in memory.\n",
        "\n",
        "2. Lazy Evaluation:\n",
        "\n",
        "Regular functions execute all statements at once, regardless of whether the results are actually used.\n",
        "\n",
        "3. Flexibility and Readability:\n",
        "\n",
        "Generators can be used in combination with various iterators, making them versatile for data processing tasks.\n",
        "\n",
        "4. Improved Performance:\n",
        "\n",
        "The combination of memory efficiency and lazy evaluation leads to better performance, especially when working with large datasets.\n",
        "\n",
        "\n"
      ],
      "metadata": {
        "id": "NcPbYExTa3BC"
      }
    },
    {
      "cell_type": "markdown",
      "source": [
        "**Que 8.** What is a lambda function in Python and when is it typically used?\n",
        "\n",
        "**Ans:-** A lambda function in Python is a small, anonymous function defined using the lambda keyword. It's typically used for concise, one-time-use functions, especially when passing a function as an argument to another function\n",
        "\n",
        "  **When to use lambda functions:**\n",
        "\n",
        "**Simple, one-time use functions:**\n",
        "\n",
        "When you need a small function for a specific task without needing to define a named function.\n",
        "\n",
        "**Passing functions as arguments:**\n",
        "\n",
        "When higher-order functions like map(), filter(), or sorted() require a function as input.\n",
        "\n",
        "**Data manipulation:**\n",
        "\n",
        "When performing simple transformations or filtering of data within functions like map() or filter()."
      ],
      "metadata": {
        "id": "K6hTpKUifUxx"
      }
    },
    {
      "cell_type": "markdown",
      "source": [
        "**Que 9.** Explain the purpose and usage of the `map()` function in Python.\n",
        "\n",
        "**Ans:-** The map() function is used to apply a function to each item in an iterable (like a list, tuple, etc.) and return a new iterator with the results.\n",
        "\n",
        "- It provides a concise way to perform the same operation on multiple items without writing explicit loops.\n",
        "\n",
        "For example:-\n",
        "\n",
        "        def square(n):\n",
        "    return n * n\n",
        "\n",
        "        numbers = [1, 2, 3, 4, 5]\n",
        "      squared_numbers = map(square, numbers)\n",
        "    print(list(squared_numbers))\n",
        "\n",
        "       [1, 4, 9, 16, 25]\n",
        "\n",
        "       def square(x):\n",
        "        returnx**2\n",
        "        square(2)\n",
        "\n",
        "        4"
      ],
      "metadata": {
        "id": "gBI6mEg4gX8y"
      }
    },
    {
      "cell_type": "markdown",
      "source": [
        "**Que 10.** What is the difference between `map()`, `reduce()`, and `filter()` functions in Python?\n",
        "\n",
        "**Ans:-** The map(), reduce(), and filter() functions are built-in higher-order functions in Python that operate on iterables (like lists, tuples, etc.). They each serve distinct purposes:\n",
        "\n",
        "map():\n",
        "\n",
        "- Applies a given function to each item in an iterable and returns an iterator that yields the results. It transforms each element individually.\n",
        "\n",
        "For example:-\n",
        "\n",
        " Syntax:-\n",
        "map(function, iterable)\n",
        "\n",
        "        numbers = [1, 2, 3, 4]\n",
        "        result = map(lambda x: x * 2, numbers)\n",
        "              print(list(result))  \n",
        "               [2, 4, 6, 8]\n",
        "\n",
        "\n",
        "filter():\n",
        "\n",
        "- Creates a new iterator that filters the elements from an iterable based on a given function. It includes only the elements for which the function returns True.\n",
        "\n",
        "                filter(function, iterable)\n",
        "                numbers = [1, 2, 3, 4, 5]\n",
        "      result = filter(lambda x: x % 2 == 0, numbers)\n",
        "        print(list(result))  # [2, 4]\n",
        "\n",
        "\n",
        "\n",
        "reduce():\n",
        "\n",
        "- Applies a function cumulatively to the items of an iterable, from left to right, to reduce the iterable to a single value. It combines elements sequentially\n",
        "\n",
        "                    from functools import reduce\n",
        "                    reduce(function, iterable)\n",
        "                from functools import reduce\n",
        "            numbers = [1, 2, 3, 4]\n",
        "        result = reduce(lambda x, y: x + y, numbers)\n",
        "          print(result)  \n",
        "          \n",
        "           10\n"
      ],
      "metadata": {
        "id": "5exxUzmvjViA"
      }
    },
    {
      "cell_type": "markdown",
      "source": [
        "Que 11. Using pen & Paper write the internal mechanism for sum operation using  reduce function on this given\n",
        "list:[47,11,42,13];\n",
        "\n",
        " ![1.jpg](data:image/jpeg;base64,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)\n"
      ],
      "metadata": {
        "id": "Yf2BpEc5lRNZ"
      }
    },
    {
      "cell_type": "code",
      "source": [
        "#Que 1. 1. Write a Python function that takes a list of numbers as input and returns the sum of all even numbers in\n",
        "the list.\n",
        "\n",
        "\n",
        "def sum_of_even_numbers(numbers):\n",
        "    even_sum = sum(num for num in numbers if num % 2 == 0)\n",
        "    return even_sum\n",
        "\n",
        "list = [10, 15, 22, 33, 40, 5]\n",
        "result = sum_of_even_numbers(list)\n",
        "print(result)"
      ],
      "metadata": {
        "colab": {
          "base_uri": "https://localhost:8080/"
        },
        "id": "aguFTerpamQu",
        "outputId": "e7a56d69-d98e-42d7-bbe8-3a0f6856e1b2"
      },
      "execution_count": null,
      "outputs": [
        {
          "output_type": "stream",
          "name": "stdout",
          "text": [
            "72\n"
          ]
        }
      ]
    },
    {
      "cell_type": "code",
      "source": [
        "#Que 2. Create a Python function that accepts a string and returns the reverse of that string.\n",
        "\n",
        "def reverse_string(text):\n",
        "    return text[::-1]\n",
        "input_text = \"hello world\"\n",
        "reversed_text = reverse_string(input_text)\n",
        "print(reversed_text)"
      ],
      "metadata": {
        "colab": {
          "base_uri": "https://localhost:8080/"
        },
        "id": "SAZZkFwV0xUk",
        "outputId": "f0e423b9-776e-461d-e800-505d2aae0b0b"
      },
      "execution_count": null,
      "outputs": [
        {
          "output_type": "stream",
          "name": "stdout",
          "text": [
            "dlrow olleh\n"
          ]
        }
      ]
    },
    {
      "cell_type": "code",
      "source": [
        "#Que 3. Implement a Python function that takes a list of integers and returns a new list containing the squares of\n",
        "#each number.\n",
        "\n",
        "\n",
        "\n",
        "def square_numbers(numbers):\n",
        "    square_numbers = [num ** 2 for num in numbers]\n",
        "    return square_numbers\n",
        "list = [1, 2, 3, 4, 5]\n",
        "result = square_numbers(list)\n",
        "print(result)\n",
        "\n",
        "\n"
      ],
      "metadata": {
        "colab": {
          "base_uri": "https://localhost:8080/"
        },
        "id": "v6amp4aE1_NX",
        "outputId": "996ec453-2ab9-4622-cbb6-ff7b45ba8c1e"
      },
      "execution_count": null,
      "outputs": [
        {
          "output_type": "stream",
          "name": "stdout",
          "text": [
            "[1, 4, 9, 16, 25]\n"
          ]
        }
      ]
    },
    {
      "cell_type": "code",
      "source": [
        "#Que 4. Write a Python function that checks if a given number is prime or not from 1 to 200.\n",
        "\n",
        "for number in range(1, 200):\n",
        "    if number > 1:\n",
        "        for i in range(2, number):\n",
        "            if (number % i) == 0:\n",
        "                break\n",
        "        else:\n",
        "            print(number)\n",
        "\n",
        "\n"
      ],
      "metadata": {
        "colab": {
          "base_uri": "https://localhost:8080/"
        },
        "id": "Ssq2WXRQ0PN_",
        "outputId": "fac243fd-066c-4ff7-9e65-ae868fb2268c"
      },
      "execution_count": null,
      "outputs": [
        {
          "output_type": "stream",
          "name": "stdout",
          "text": [
            "2\n",
            "3\n",
            "5\n",
            "7\n",
            "11\n",
            "13\n",
            "17\n",
            "19\n",
            "23\n",
            "29\n",
            "31\n",
            "37\n",
            "41\n",
            "43\n",
            "47\n",
            "53\n",
            "59\n",
            "61\n",
            "67\n",
            "71\n",
            "73\n",
            "79\n",
            "83\n",
            "89\n",
            "97\n",
            "101\n",
            "103\n",
            "107\n",
            "109\n",
            "113\n",
            "127\n",
            "131\n",
            "137\n",
            "139\n",
            "149\n",
            "151\n",
            "157\n",
            "163\n",
            "167\n",
            "173\n",
            "179\n",
            "181\n",
            "191\n",
            "193\n",
            "197\n",
            "199\n"
          ]
        }
      ]
    },
    {
      "cell_type": "code",
      "source": [
        "#Que 5.Create an iterator class in Python that generates the Fibonacci sequence up to a specified number of\n",
        "#terms.\n",
        "\n",
        "class FibonacciIterator:\n",
        "    def __init__(self, n):\n",
        "        self.n = n\n",
        "        self.current = 0\n",
        "        self.next_num = 1\n",
        "        self.count = 0\n",
        "\n",
        "    def __iter__(self):\n",
        "        return self\n",
        "\n",
        "    def __next__(self):\n",
        "        if self.count >= self.n:\n",
        "            raise StopIteration\n",
        "            value = self.a\n",
        "            self.a, self.b = self.b, self.a + self.b, self.a + self.b\n",
        "            self.count += 1\n",
        "            return value\n",
        "    fib = FibonacciIterator(7)\n",
        "    print(list(fib))\n"
      ],
      "metadata": {
        "colab": {
          "base_uri": "https://localhost:8080/"
        },
        "id": "xYXQsXg6_ezC",
        "outputId": "abd0e224-1b24-4844-b994-a856f9c7a4e3"
      },
      "execution_count": null,
      "outputs": [
        {
          "output_type": "stream",
          "name": "stdout",
          "text": [
            "[0, 1, 1, 2, 3, 5, 8]\n"
          ]
        }
      ]
    },
    {
      "cell_type": "code",
      "source": [
        "#Que 6. Write a generator function in Python that yields the powers of 2 up to a given exponent.\n",
        "\n",
        "def power_of_two(max_exponent):\n",
        "  for i in range (max_exponent + 1):\n",
        "    yield 2 ** i\n",
        "for value in power_of_two(10):\n",
        "  print(value)"
      ],
      "metadata": {
        "colab": {
          "base_uri": "https://localhost:8080/"
        },
        "id": "Oh2ospxztAiW",
        "outputId": "ee200b14-e301-41cc-c39b-e0aa91008e41"
      },
      "execution_count": null,
      "outputs": [
        {
          "output_type": "stream",
          "name": "stdout",
          "text": [
            "1\n",
            "2\n",
            "4\n",
            "8\n",
            "16\n",
            "32\n",
            "64\n",
            "128\n",
            "256\n",
            "512\n",
            "1024\n"
          ]
        }
      ]
    },
    {
      "cell_type": "code",
      "source": [
        "#Que 7. Implement a generator function that reads a file line by line and yields each line as a string.\n",
        "\n",
        "In [20]:\n",
        "def read_lines(filename):\n",
        "  with open(filename, 'r') as file:\n",
        "    for line in file:\n",
        "yield line.strip()\n",
        "for line in read_lines(\"sample.txt\"):\n",
        "print(line)"
      ],
      "metadata": {
        "id": "2H87WeODcKQs"
      },
      "execution_count": null,
      "outputs": []
    },
    {
      "cell_type": "code",
      "source": [
        "#Que 8.Use a lambda function in Python to sort a list of tuples based on the second element of each tuple.\n",
        "\n",
        "tuples = [(1, 3), (4, 1), (2, 2)]\n",
        "sorted_tuples = sorted(tuples, key=lambda x: x[1])\n",
        "print(sorted_tuples)"
      ],
      "metadata": {
        "colab": {
          "base_uri": "https://localhost:8080/"
        },
        "id": "iUjrm7PoHklx",
        "outputId": "233ec4db-4778-45e1-8085-c8ab4c14960a"
      },
      "execution_count": null,
      "outputs": [
        {
          "output_type": "stream",
          "name": "stdout",
          "text": [
            "[(4, 1), (2, 2), (1, 3)]\n"
          ]
        }
      ]
    },
    {
      "cell_type": "code",
      "source": [
        "#Que 9.Write a Python program that uses `map()` to convert a list of temperatures from Celsius to Fahrenheit.\n",
        "\n",
        "#list the temprature in celsius\n",
        "celsius = [0, 10, 20, 30, 37, 100]\n",
        "\n",
        "#convert to Fahrenheit using map and lambda\n",
        "Fahrenheit = list(map(lambda x: (x * 9/5) + 32, celsius))\n",
        "\n",
        "#print the result\n",
        "print(Fahrenheit)"
      ],
      "metadata": {
        "colab": {
          "base_uri": "https://localhost:8080/"
        },
        "id": "yOv956bnC7yr",
        "outputId": "5a5343b4-f56a-49f1-aa80-0bec6360f824"
      },
      "execution_count": null,
      "outputs": [
        {
          "output_type": "stream",
          "name": "stdout",
          "text": [
            "[32.0, 50.0, 68.0, 86.0, 98.6, 212.0]\n"
          ]
        }
      ]
    },
    {
      "cell_type": "code",
      "source": [
        "#Que 10.Create a Python program that uses `filter()` to remove all the vowels from a given string.\n",
        "\n",
        "#filter()` to remove all the vowels from a given string.\n",
        "def remove_vowels(string):\n",
        "    vowels = 'aeiouAEIOU'\n",
        "    filtered_string = ''.join(filter(lambda x: x not in vowels, string))\n",
        "    return filtered_string\n",
        "print(remove_vowels(\"Hello, World!\"))"
      ],
      "metadata": {
        "colab": {
          "base_uri": "https://localhost:8080/"
        },
        "id": "jAjuxYYeE-3Z",
        "outputId": "96c096b8-f163-42ab-e39e-4b1523cb37d4"
      },
      "execution_count": null,
      "outputs": [
        {
          "output_type": "stream",
          "name": "stdout",
          "text": [
            "Hll, Wrld!\n"
          ]
        }
      ]
    },
    {
      "cell_type": "code",
      "source": [
        "#Que 11. Imagine an accounting routine used in a book shop. It works on a list with sublists, which look like this:\n",
        "#Write a Python program, which returns a list with 2-tuples. Each tuple consists of the order number and the\n",
        "#product of the price per item and the quantity. The product should be increased by 10,- € if the value of the\n",
        "#order is smaller than 100,00 €.\n",
        "#Write a Python program using lambda and map.\n",
        "\n",
        "orders = [\n",
        "    [101, 4.50, 5],     # 22.5 → +10 → 32.5\n",
        "    [102, 15.00, 6],    # 90 → +10 → 100\n",
        "    [103, 40.00, 3],    # 120 → no surcharge\n",
        "    [104, 2.00, 20],    # 40 → +10 → 50\n",
        "]\n",
        "\n",
        "# Lambda with map\n",
        "result = list(map(lambda order: (\n",
        "    order[0],\n",
        "    order[1] * order[2] if order[1] * order[2] >= 100 else order[1] * order[2] + 10\n",
        "), orders))\n",
        "\n",
        "print(result)\n"
      ],
      "metadata": {
        "colab": {
          "base_uri": "https://localhost:8080/"
        },
        "id": "ODA90ucqFwzB",
        "outputId": "e722ba58-44e9-463a-987d-875b07b84d71"
      },
      "execution_count": null,
      "outputs": [
        {
          "output_type": "stream",
          "name": "stdout",
          "text": [
            "[(101, 32.5), (102, 100.0), (103, 120.0), (104, 50.0)]\n"
          ]
        }
      ]
    },
    {
      "cell_type": "code",
      "source": [],
      "metadata": {
        "id": "-pgQ2wLBH8jM"
      },
      "execution_count": null,
      "outputs": []
    }
  ]
}